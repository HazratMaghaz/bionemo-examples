{
 "cells": [
  {
   "cell_type": "markdown",
   "id": "a70c54c0",
   "metadata": {},
   "source": [
    "## Protein Generation and Filtering with BioNeMo\n",
    "\n",
    "This example notebook shows how to generate protein sequences using ProtGPT2 inference from BioNemo service API. For more details, please visit the NVIDIA BioNeMo Service homepage at https://www.nvidia.com/en-us/gpu-cloud/bionemo/\n",
    "\n",
    "This notebook will walk through a protein generation and filtering workflow in the following sections:\n",
    "\n",
    " - **BioNeMo Service Configuration**\n",
    "   - Install dependencies and define the BioNeMo service endpoint and API key required for access\n",
    " - **Generating Protein Sequences**\n",
    "   - Use BioNeMo Service to generate protein sequences with the ProtGPT2 model\n",
    " - **Predict the properties of the generated sequences**\n",
    "   - Use [PGP](https://github.com/hefeda/PGP) to understand the properties of the generated sequences\n",
    "\n",
    "### BioNeMo Service Configurations\n",
    "To get started, please configure and provide your NGC access token by visiting https://ngc.nvidia.com/setup/api-key|"
   ]
  },
  {
   "cell_type": "code",
   "execution_count": null,
   "id": "6d0bd263",
   "metadata": {},
   "outputs": [],
   "source": [
    "API_KEY=\"Your Key Here\"\n",
    "API_HOST=\"https://api.stg.bionemo.ngc.nvidia.com/v1\""
   ]
  },
  {
   "cell_type": "markdown",
   "id": "7d93a696",
   "metadata": {},
   "source": [
    "Let's start by installing and importing library dependencies. We'll also use _requests_ to interact with the BioNeMo service, and _BioPython_ to parse FASTA sequences into SeqRecord objects."
   ]
  },
  {
   "cell_type": "code",
   "execution_count": null,
   "id": "5d0acc1a",
   "metadata": {},
   "outputs": [],
   "source": [
    "!pip install torch biopython"
   ]
  },
  {
   "cell_type": "code",
   "execution_count": null,
   "id": "422b9fe3",
   "metadata": {},
   "outputs": [],
   "source": [
    "import requests\n",
    "import time\n",
    "import json\n",
    "import pathlib\n",
    "\n",
    "from Bio import SeqIO\n",
    "from Bio.Seq import Seq\n",
    "from Bio.SeqRecord import SeqRecord"
   ]
  },
  {
   "cell_type": "markdown",
   "id": "aa7a0b2e",
   "metadata": {},
   "source": [
    "Next let's verify connectivity to the BioNeMo service. You should get a \"200 OK\" HTTP response in the following cell, indicating a successful connection. Note the _Authorization_ field in the header response which contains your NGC access token credentials. We'll re-use this header for all future interactions with the service.\n",
    "\n",
    "<div class=\"alert alert-block alert-info\">\n",
    "    <b>Tip:</b>  If you do not receive a \"200 OK\" HTTP response when testing connectivity to BioNeMo service in the cell below, verify\n",
    "    \n",
    " - the API_HOST defined above is the correct address of the BioNeMo service, and\n",
    " - the API_KEY is authorized to access BioNeMo service at the API_HOST\n",
    "\n",
    "Refer to this <a href=\"https://developer.mozilla.org/en-US/docs/Web/HTTP/Status\">list of HTTP responses status codes</a> to help determine the cause of a non-200 response.\n",
    "</div>"
   ]
  },
  {
   "cell_type": "code",
   "execution_count": null,
   "id": "6aa4bb73",
   "metadata": {},
   "outputs": [],
   "source": [
    "#Checking to see if the access is configured\n",
    "response = requests.get(\n",
    "    f\"{API_HOST}/models\",\n",
    "    headers={\"Authorization\": f\"Bearer {API_KEY}\"})\n",
    "print(\"Query BioNeMo Service:\", response)\n",
    "\n",
    "#Add key to headers for remainder of notebook\n",
    "headers = {\n",
    "    'Authorization': f'Bearer {API_KEY}'\n",
    "}"
   ]
  },
  {
   "cell_type": "markdown",
   "id": "173f4830",
   "metadata": {},
   "source": [
    "Some of the BioNeMo services as are _sychronous_, meaning the service API call will block until a result is returned. Two examples of synchronous services are MegaMolBART molecule embedding, and looking up PDBs using the BioNeMo Uniprot service. Other services are _asynchronous_, such as the protein folding and docking services.\n",
    "\n",
    "You can find more information about the BioNeMo API here: https://bionemo.ngc.nvidia.com/openapi\n",
    "\n",
    "Functions calling _asynchronous_ services are non-blocking, and immediately return a handle called _correlation_id_ that can be used to query the results. This allows us to batch multiple requests together and query them for completion at a later time.\n",
    "\n",
    "In the following cell we introduce a helper function _query_async_result_ that will block on a _correlation_id_ task until the computation is completely and a result is returned.  For these non-blocking asynchronous calls, it is important to block on the correlation id to ensure we've received the response data before continuing."
   ]
  },
  {
   "cell_type": "code",
   "execution_count": null,
   "id": "20de88a0",
   "metadata": {
    "scrolled": true
   },
   "outputs": [],
   "source": [
    "def query_async_result(request, print_result=False):\n",
    "    if isinstance(request, str):\n",
    "        #Request is a correlation id string\n",
    "        correlation_id=request\n",
    "    elif isinstance(request, requests.models.Response):\n",
    "        submission_response = json.loads(request.content)\n",
    "        correlation_id=submission_response['correlation_id']\n",
    "    \n",
    "    i = 0\n",
    "    while True:\n",
    "        response = requests.get(\n",
    "            f\"{API_HOST}/task/{correlation_id}\",\n",
    "            headers=headers,\n",
    "        )      \n",
    "        \n",
    "        status_result = json.loads(response.content)\n",
    "        if status_result['control_info']['status'] == 'DONE':\n",
    "            if(print_result): print(status_result['response'])\n",
    "            return(status_result['response'])\n",
    "        if status_result['control_info']['status'] == 'ERROR':\n",
    "            print(\"ERROR, Cancelling Result Retrieval\")\n",
    "            return            \n",
    "        else:\n",
    "            print(f\"{status_result['control_info']['status']}{''.join(['.']*i)}\" , end=\"\\r\")\n",
    "            time.sleep(10)  # waiting for the prediction from BioNeMo Server\n",
    "        i = i+1"
   ]
  },
  {
   "cell_type": "markdown",
   "id": "9a3f33be",
   "metadata": {},
   "source": [
    "## Unconditionally generating protein sequences\n",
    "BioNeMo exposes [ProtGPT2](https://www.nature.com/articles/s41467-022-32007-7) as a service for unconditional protein generation. The service can be queried to generate sequences following natural sequence distributions as present in UniProt. These sequences can then be used as the starting point for a [drug discovery campaign](https://www.sciencedirect.com/science/article/pii/S2001037022005086#s0020), which we'll look into in the next chapters of this notebook.\n",
    "\n",
    "It's important to choose your parameters for the protein generation process carefully.\n",
    "\n",
    "-   max_length: maximum number of generated tokens.\n",
    "        \n",
    "Note that common tokens in ProtGPT3 are k-mers of length 3, so 1 token = 3 amino acids. In other words, a max_length=400 could translate to an effective protein sequence of up to 1200 amino acids.\n",
    "\n",
    "- top_k: Sets the number of highest probability vocabulary tokens to keep for top-k-filtering\n",
    "- repetition_penalty: Sets the penalty for [repeating tokens](https://arxiv.org/pdf/1909.05858.pdf), where a value of 1 correspond to no penalty.\n",
    "- num_return_sequences: The effective number of whole protein sequences to return\n",
    "- percent_to_keep: Sets the percent of whole protein sequences to keep for each protein generation iteration cycle, based on their cumulative perplexity. \n",
    "\n",
    "As an illustrative example, suppose that 50 sequences of tokens are generated per itration. From these generated sequences of tokens (which could contain protein sequence fragments or other invalid # sequences), whole protein sequences are reconstructed. Let's suppose that there are 43 valid, whole protein sequences from the generative iteration. Of these 43 whole protein sequences, only the top `percent_to_keep`, according to perplexity, are kept. For instance, with percent_to_keep=10, only ~4 of the 43 sequences (i.e., ~10% of 43) will be kept. After these 4 sequences are added to the return object, the generation process will resume until `num_return_sequences` is reached. Therefore - the lower the value of `percent_to_keep`, the longer the overall generation process will take.\n",
    "\n",
    "Now let's define a sane set of parameters for our example problem."
   ]
  },
  {
   "cell_type": "code",
   "execution_count": null,
   "id": "c768f75a",
   "metadata": {},
   "outputs": [],
   "source": [
    "# Here we define the generation parameters.\n",
    "parameters = {\n",
    "    \"max_length\": 400,\n",
    "    \"top_k\": 950,\n",
    "    \"repetition_penalty\": 1.2,\n",
    "    \"num_return_sequences\": 100,\n",
    "    \"percent_to_keep\": 10\n",
    "}"
   ]
  },
  {
   "cell_type": "markdown",
   "id": "8cb10ec6",
   "metadata": {},
   "source": [
    "Now we can submit our service request to BioNeMo. Even though this service is asynchronous, we'll block on waiting for our request to be processed."
   ]
  },
  {
   "cell_type": "code",
   "execution_count": null,
   "id": "fe18a23b",
   "metadata": {},
   "outputs": [],
   "source": [
    "# Submit request ticket\n",
    "submission_request = requests.post(\n",
    "    f\"{API_HOST}/protein-sequence/protgpt2/generate\",\n",
    "    headers=headers,\n",
    "    json=parameters\n",
    ")\n",
    "\n",
    "# Wait for request to be processed, and convert the result to a dictionary\n",
    "result = json.loads(query_async_result(submission_request))"
   ]
  },
  {
   "cell_type": "markdown",
   "id": "86c1bc59",
   "metadata": {},
   "source": [
    "Next let's convert the generated sequences into SeqRecord items, so that we can store them in FASTA file locally for later use."
   ]
  },
  {
   "cell_type": "code",
   "execution_count": null,
   "id": "10b3b4b7",
   "metadata": {},
   "outputs": [],
   "source": [
    "# Process the request response into biopython seqrecords\n",
    "seqrecords = list()\n",
    "\n",
    "for i, (perplexity, sequence) in enumerate(\n",
    "    zip(result['perplexities'], result['generated_sequences'])\n",
    "):\n",
    "    seqrecords.append(SeqRecord(id=f\"S{i+1}\", seq=Seq(sequence), description=f\", L={len(sequence)}, ppl={perplexity}\"))\n",
    "    \n",
    "# Write the sequences to a fasta file\n",
    "sequences_filename = \"sequences.fasta\"\n",
    "with open(sequences_filename, \"w\") as output_handle:\n",
    "    SeqIO.write(seqrecords, output_handle, \"fasta\")   "
   ]
  },
  {
   "cell_type": "markdown",
   "id": "b9da8010",
   "metadata": {},
   "source": [
    "Let's take a look at the saved FASTA file for a quick sanity check."
   ]
  },
  {
   "cell_type": "code",
   "execution_count": null,
   "id": "4572f1ec",
   "metadata": {},
   "outputs": [],
   "source": [
    "#Print header lines from protein FASTA file\n",
    "!head sequences.fasta"
   ]
  },
  {
   "cell_type": "markdown",
   "id": "85b79905",
   "metadata": {},
   "source": [
    "## Predicting properties from generated protein sequences using PGP\n",
    "[PGP](https://github.com/hefeda/PGP) is an open-source tool that can be used to rapidly analyze protein sequences to predict properties such as secondary structure, gene ontology, subcellular localization, and [more](https://www.sciencedirect.com/science/article/pii/S2001037022005086#s0020).\n",
    "\n",
    "We will use [PGP](https://github.com/hefeda/PGP) here to analyze the sequences generated with ProtGPT2 above to get a better understanding of their properties and the occurrence of desired features.\n",
    "\n",
    "To begin, we need to clone the PGP repository locally and install its dependencies and run the predictors."
   ]
  },
  {
   "cell_type": "code",
   "execution_count": null,
   "id": "ddbd28cf",
   "metadata": {},
   "outputs": [],
   "source": [
    "# Clone the PGP repository locally\n",
    "!git clone https://github.com/hefeda/PGP.git"
   ]
  },
  {
   "cell_type": "markdown",
   "id": "152fc60c",
   "metadata": {},
   "source": [
    "PGP relies on _torch_. If the library isn't already installed on your system, expect installation to take around tens minutes or so."
   ]
  },
  {
   "cell_type": "code",
   "execution_count": null,
   "id": "9ab53088",
   "metadata": {},
   "outputs": [],
   "source": [
    "# Install the minimal requirements\n",
    "!pip install -r PGP/requirements_minimal.txt"
   ]
  },
  {
   "cell_type": "code",
   "execution_count": null,
   "id": "e965c6cb",
   "metadata": {},
   "outputs": [],
   "source": [
    "# Predict features using PGP\n",
    "!python PGP/prott5_batch_predictor.py --input sequences.fasta --output predictions --fmt ss,cons,dis,mem,bind,go,subcell,tucker"
   ]
  },
  {
   "cell_type": "markdown",
   "id": "3bf8ae9f",
   "metadata": {},
   "source": [
    "## Reading predictions and querying sequences based on desired properties\n",
    "Lastly, we will load the predicted properties and use them to query the sequences for desired features."
   ]
  },
  {
   "cell_type": "code",
   "execution_count": null,
   "id": "ee5e2f76",
   "metadata": {},
   "outputs": [],
   "source": [
    "from PGP.notebooks.utils import load_data"
   ]
  },
  {
   "cell_type": "code",
   "execution_count": null,
   "id": "0285ba72",
   "metadata": {},
   "outputs": [],
   "source": [
    "predicted_features = load_data(pathlib.Path('predictions'))"
   ]
  },
  {
   "cell_type": "markdown",
   "id": "26c23c88",
   "metadata": {},
   "source": [
    "## Short sequences without transmembrane strands, binding to small molecules\n",
    "\n",
    "In the example above, we limited our ProtGPT2 request to generate only 100 sequences to minimize runtime.  In a production workflow, we would typically work with more complex queries on a much larger generated dataset of sequences.  To increase the likelihood of finding a complex, pharmacologically relevant sequence in our smaller sample set, we will query for sequences that:\n",
    "- Are longer than 100 residues\n",
    "- Do not include transmembrane strand content\n",
    "- Bind to small molecules\n",
    "\n",
    "Lastly we return the sequences ordered by longest sequences with most transmembrane and small molecule binding content. We will print the first ten sequences here. Take a look at the query body for some of the example features that can be inspected, and feel free to manipulate them to change your filtered sequence set."
   ]
  },
  {
   "cell_type": "code",
   "execution_count": null,
   "id": "889f37bf",
   "metadata": {},
   "outputs": [],
   "source": [
    "filtering_order = ['length', 'transmembrane_strand_percent', 'small_percent']\n",
    "\n",
    "for sequence in predicted_features.query(\n",
    "    '''\n",
    "    length > 100 and\\\n",
    "    transmembrane_strand_count == 0  and\\\n",
    "    small_count > 0 \n",
    "    '''\n",
    ")[:9].sort_values(filtering_order, ascending=False).to_records():\n",
    "    print(f\"Header: {sequence.header}\")\n",
    "    print(f\"Sequence length: {sequence.length}\")\n",
    "    print(f\"Transmembrane strand content: {sequence.transmembrane_strand_percent*100:0.2f}%\")\n",
    "    print(f\"Small-molecule binding content: {sequence.small_percent*100:0.2f}%\")\n",
    "    print(\"---------------\")"
   ]
  },
  {
   "cell_type": "markdown",
   "id": "28a9c548",
   "metadata": {},
   "source": [
    "## Conclusion\n",
    "In this notebook, we've walked through an example workflow generating protein sequences and analyzing their properties for desired features, covering:\n",
    "\n",
    " - How to configure the BioNeMo Service API\n",
    " - Generating protein sequences with the ProtGPT2 model\n",
    " - Understand the properties of the generated sequences using PGP\n",
    "   \n",
    "While this notebook demonstrates some of the rich capabilities of the BioNeMo service, this would just be the beginning of a production end-to-end drug discovery pipeline. As a next step, consider using the BioNeMo folding services to predict the structures of the sequences you generated!"
   ]
  },
  {
   "cell_type": "code",
   "execution_count": null,
   "id": "e25cfad3-2432-4389-81be-ad9c8ebbc004",
   "metadata": {},
   "outputs": [],
   "source": []
  }
 ],
 "metadata": {
  "kernelspec": {
   "display_name": "Python 3 (ipykernel)",
   "language": "python",
   "name": "python3"
  },
  "language_info": {
   "codemirror_mode": {
    "name": "ipython",
    "version": 3
   },
   "file_extension": ".py",
   "mimetype": "text/x-python",
   "name": "python",
   "nbconvert_exporter": "python",
   "pygments_lexer": "ipython3",
   "version": "3.9.13"
  }
 },
 "nbformat": 4,
 "nbformat_minor": 5
}
