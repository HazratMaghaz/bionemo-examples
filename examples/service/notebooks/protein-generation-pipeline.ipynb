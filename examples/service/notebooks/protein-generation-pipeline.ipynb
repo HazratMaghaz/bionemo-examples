{
 "cells": [
  {
   "cell_type": "markdown",
   "metadata": {},
   "source": [
    "## Protein Generation and Structure Prediction with BioNemo\n",
    "\n",
    "This example notebook shows how to generate new protein sequences and predict folded protein structures using ProtGPT2 and OpenFold pre-trained models via the BioNemo service API. These models were trained and deployed using NVIDIA's BioNeMo framework for Large Language Models. For more details, please visit NVIDIA BioNeMo Service at https://www.nvidia.com/en-us/gpu-cloud/bionemo/ \n",
    "\n",
    "This notebook will walk through protein generation and visualization following sections:\n",
    "\n",
    " - **BioNeMo Service Configuration**\n",
    "   - Install dependencies and define the BioNeMo service endpoint and API key required for access\n",
    " - **Generating Protein Sequences**\n",
    "   - Generate protein sequences with the ProtGPT2 model\n",
    " - **Predicting 3d Protein Structure**\n",
    "   - Predict the 3D structure of the generated proteins using OpenFold\n",
    "\n",
    "### BioNeMo Service Configurations\n",
    "To get started, please configure and provide your NGC access token by visiting https://ngc.nvidia.com/setup/api-key"
   ]
  },
  {
   "cell_type": "code",
   "execution_count": null,
   "metadata": {},
   "outputs": [],
   "source": [
    "API_KEY = \"YOUR KEY HERE\"\n",
    "API_HOST = \"https://api.stg.bionemo.ngc.nvidia.com/v1\""
   ]
  },
  {
   "cell_type": "markdown",
   "metadata": {},
   "source": [
    "Let's start by installing and importing library dependencies. We'll use _requests_ to interact with the BioNeMo service, and _py3Dmol_ for visualization."
   ]
  },
  {
   "cell_type": "code",
   "execution_count": null,
   "metadata": {},
   "outputs": [],
   "source": [
    "!pip install py3dmol"
   ]
  },
  {
   "cell_type": "code",
   "execution_count": null,
   "metadata": {},
   "outputs": [],
   "source": [
    "import io\n",
    "import re\n",
    "import time\n",
    "import numpy\n",
    "import requests\n",
    "import json\n",
    "import requests\n",
    "\n",
    "import json\n",
    "import datetime\n",
    "import py3Dmol\n",
    "\n",
    "from typing import Iterable, Dict"
   ]
  },
  {
   "cell_type": "markdown",
   "metadata": {},
   "source": [
    "Next let's validate our connection to the BioNeMo service. You should get a \"200\" HTTP response in the following cell, indicating a successful connection. Note the _Authorization_ field in the header response which contains your NGC access token credentials. We'll re-use this header for all future interactions with the service.\n",
    "<div class=\"alert alert-block alert-info\">\n",
    "    <b>Tip:</b>  If you do not receive a \"200 OK\" HTTP response when testing connectivity to BioNeMo service in the cell below, verify\n",
    "    \n",
    " - the API_HOST defined above is the correct address of the BioNeMo service, and\n",
    " - the API_KEY is authorized to access BioNeMo service at the API_HOST\n",
    "\n",
    "Refer to this <a href=\"https://developer.mozilla.org/en-US/docs/Web/HTTP/Status\">list of HTTP responses status codes</a> to help determine the cause of a non-200 response.\n",
    "</div>"
   ]
  },
  {
   "cell_type": "code",
   "execution_count": null,
   "metadata": {},
   "outputs": [],
   "source": [
    "#Checking to see if the access is configured\n",
    "response = requests.get(\n",
    "    f\"{API_HOST}/models\",\n",
    "    headers={\"Authorization\": f\"Bearer {API_KEY}\"})\n",
    "print(\"Query BioNeMo Service:\", response)\n",
    "\n",
    "#Add key to headers for remainder of notebook\n",
    "headers = {\n",
    "    'Authorization': f'Bearer {API_KEY}'\n",
    "}"
   ]
  },
  {
   "cell_type": "markdown",
   "metadata": {},
   "source": [
    "Some of the BioNeMo services such as are _sychronous_, meaning the service API call will block until a result is returned. Two examples of synchronous services are MegaMolBART molecule embedding, and looking up PDBs using the BioNeMo Uniprot service.Other services are _asynchronous_, such as the protein folding and docking services. Functions calling _asynchronous_ services are nonblocking, and immediately return a handle called a _correlation_id_ that can be used to query the results. This allows us to batch multiple requests together and query them for completion at a later time.\n",
    "\n",
    "In the following cell we introduce a helper function _query_async_result_ that will block on a _correlation_id_ task until the computation is completely and a result is returned.  For these non-blocking asynchronous calls, it is important to block on the correlation id to ensure we've received the response data before continuing."
   ]
  },
  {
   "cell_type": "code",
   "execution_count": null,
   "metadata": {},
   "outputs": [],
   "source": [
    "def query_async_result(request, print_result=False):\n",
    "    if isinstance(request, str):\n",
    "        #Request is a correlation id string\n",
    "        correlation_id=request\n",
    "    elif isinstance(request, requests.models.Response):\n",
    "        submission_response = json.loads(request.content)\n",
    "        correlation_id=submission_response['correlation_id']\n",
    "    \n",
    "    i = 0\n",
    "    while True:\n",
    "        response = requests.get(\n",
    "            f\"{API_HOST}/task/{correlation_id}\",\n",
    "            headers=headers,\n",
    "        )      \n",
    "    \n",
    "        status_result = json.loads(response.content)\n",
    "        if status_result['control_info']['status'] == 'DONE':\n",
    "            if(print_result): print(status_result['response'])\n",
    "            return(status_result['response'])\n",
    "        if status_result['control_info']['status'] == 'ERROR':\n",
    "            print(\"ERROR, Cancelling Result Retrieval\")\n",
    "            return            \n",
    "        else:\n",
    "            print(f\"{status_result['control_info']['status']}{''.join(['.']*i)}\" , end=\"\\r\")\n",
    "            time.sleep(10)  # waiting for the prediction from BioNeMo Server\n",
    "        i = i+1"
   ]
  },
  {
   "cell_type": "markdown",
   "metadata": {
    "id": "pz0zhFVS00ei"
   },
   "source": [
    "## Protein structure prediction via API request to BioNeMo Service\n",
    "\n",
    "In the following, we will demonstrate an example of protein structure prediction utilizing sequences we generate from an AI model. In this case we'll be using ProtGPT2, a langauge model that generates protein sequences that are similar to their natural counterparts.  But before we generate our own sequences, let's take a look at the BioNeMo UniProt lookup service. This can be leveraged to retrieve the sequence of a protein-of-interest, using the UniProt ID as input. Here we will be looking at [Thioredoxin](https://www.uniprot.org/uniprotkb/P10599/entry). This small protein plays a vital role in regulating cellular redox (reduction–oxidation) homeostasis by reducing disulfide bonds in proteins. It is found in most living organisms, from bacteria to humans. It acts as a reducing agent by donating electrons to other proteins to help maintain their proper shape and function. It also helps to remove reactive oxygen species (ROS) from cells, which can damage DNA, proteins, and lipids if not removed.\n",
    "\n",
    "Let's begin by retrieving the sequence for Thioredoxin, utilizing the BioNeMo UniProt lookup service.\n",
    "<div class=\"alert alert-block alert-info\">\n",
    "    <b>Tip:</b>  We use the specific sequence for Thioredoxin in this example workflow.  The UniProt ID lookup feature built in to BioNeMo Service allows a user to work with virtually any protein sequence.  Feel free to use this workflow as a starting point for your own experimentation!\n",
    "</div>"
   ]
  },
  {
   "cell_type": "code",
   "execution_count": null,
   "metadata": {},
   "outputs": [],
   "source": [
    "uniprot_id=\"P10599\"\n",
    "response = requests.get(f'{API_HOST}/uniprot/{uniprot_id}', headers=headers)\n",
    "sequence = json.loads(response.content)\n",
    "print(sequence)"
   ]
  },
  {
   "cell_type": "markdown",
   "metadata": {},
   "source": [
    "Generating new protein sequences is a key component of protein engineering, which allows scientists to create proteins with specific functions and properties that may not exist in nature. These engineered proteins can be used in a variety of applications, including drug development, biocatalysis, and biomaterials, among others.\n",
    "\n",
    "It's important to choose your parameters for the protein generation process carefully.\n",
    "\n",
    "-   max_length: maximum number of generated tokens.\n",
    "        \n",
    "Note that common tokens in ProtGPT3 are k-mers of length 3, so 1 token = 3 amino acids. In other words, a max_length=400 could translate to an effective protein sequence of up to 1200 amino acids.\n",
    "\n",
    "- top_k: Sets the number of highest probability vocabulary tokens to keep for top-k-filtering\n",
    "- repetition_penalty: Sets the penalty for [repeating tokens](https://arxiv.org/pdf/1909.05858.pdf), where a value of 1 correspond to no penalty.\n",
    "- num_return_sequences: The effective number of whole protein sequences to return\n",
    "- percent_to_keep: Sets the percent of whole protein sequences to keep for each protein generation iteration cycle, based on their cumulative perplexity. \n",
    "\n",
    "As an illustrative example, suppose that 50 sequences of tokens are generated per itration. From these generated sequences of tokens (which could contain protein sequence fragments or other invalid # sequences), whole protein sequences are reconstructed. Let's suppose that there are 43 valid, whole protein sequences from the generative iteration. Of these 43 whole protein sequences, only the top `percent_to_keep`, according to perplexity, are kept. For instance, with percent_to_keep=10, only ~4 of the 43 sequences (i.e., ~10% of 43) will be kept. After these 4 sequences are added to the return object, the generation process will resume until `num_return_sequences` is reached. Therefore - the lower the value of `percent_to_keep`, the longer the overall generation process will take.\n",
    "\n",
    "Now let's define a sane set of parameters for our example problem."
   ]
  },
  {
   "cell_type": "code",
   "execution_count": null,
   "metadata": {},
   "outputs": [],
   "source": [
    "# Here we define the generation parameters.\n",
    "parameters = {\n",
    "    \"max_length\": 100,\n",
    "    \"top_k\": 950,\n",
    "    \"repetition_penalty\": 1.2,\n",
    "    \"num_return_sequences\": 5,\n",
    "    \"percent_to_keep\": 10\n",
    "}"
   ]
  },
  {
   "cell_type": "markdown",
   "metadata": {},
   "source": [
    "Now we can submit our service request to BioNeMo. Even though this service is asynchronous, we'll block on waiting for our request to be processed. With the chosen input parameters, we expect to obtain 5 new sequences."
   ]
  },
  {
   "cell_type": "code",
   "execution_count": null,
   "metadata": {},
   "outputs": [],
   "source": [
    "# Submit request ticket\n",
    "submission_request = requests.post(\n",
    "    f\"{API_HOST}/protein-sequence/protgpt2/generate\",\n",
    "    headers=headers,\n",
    "    json=parameters\n",
    ")\n",
    "\n",
    "# Wait for request to be processed\n",
    "result = query_async_result(submission_request)"
   ]
  },
  {
   "cell_type": "markdown",
   "metadata": {},
   "source": [
    "Let's save the output in json format, and print the data it for a quick sanity check."
   ]
  },
  {
   "cell_type": "code",
   "execution_count": null,
   "metadata": {},
   "outputs": [],
   "source": [
    "results_json=json.loads(result)\n",
    "print(results_json['generated_sequences'][0])"
   ]
  },
  {
   "cell_type": "markdown",
   "metadata": {},
   "source": [
    "With our sequences in hand, we're ready to predict the corresponding protein structures using the BioNeMo folding services. We'll use OpenFold to fold both the original protein, and the first generated sequence. Taking advantage of the ascynchronous nature of the folding services, note that we batch and submit both foldings requests before waiting for any service response. "
   ]
  },
  {
   "cell_type": "code",
   "execution_count": null,
   "metadata": {},
   "outputs": [],
   "source": [
    "# Below is the sequence of Human Thioredoxin as sourced from UniProt\n",
    "\n",
    "#Original Sequence\n",
    "original_request = requests.post(\n",
    "    f\"{API_HOST}/protein-structure/openfold/predict\",\n",
    "    headers={\"Authorization\": f\"Bearer {API_KEY}\"},\n",
    "    files={\n",
    "        \"sequence\": (None, sequence),    \n",
    "    }\n",
    ")\n",
    "\n",
    "#Generated Sequence        \n",
    "generated_sequence=results_json['generated_sequences'][0]\n",
    "generated_request = requests.post(\n",
    "    f\"{API_HOST}/protein-structure/openfold/predict\",\n",
    "    headers={\"Authorization\": f\"Bearer {API_KEY}\"},\n",
    "    files={\n",
    "        \"sequence\": (None, generated_sequence),  \n",
    "    }\n",
    ")\n",
    "\n",
    "original_result=query_async_result(original_request)\n",
    "pdb_filename = \"BioNeMo_OpenFold_original.pdb\"\n",
    "with open(pdb_filename, 'w') as pdb_file:\n",
    "    for line in json.loads(original_result)['pdbs']:\n",
    "        pdb_file.write(line)\n",
    "        \n",
    "generated_result=query_async_result(generated_request)\n",
    "pdb_filename = \"BioNeMo_OpenFold_generated.pdb\"\n",
    "with open(pdb_filename, 'w') as pdb_file:\n",
    "    for line in json.loads(generated_result)['pdbs']:\n",
    "        pdb_file.write(line)"
   ]
  },
  {
   "cell_type": "markdown",
   "metadata": {},
   "source": [
    "### Understanding the response\n",
    "\n",
    "The BioNeMo Server will respond with a `correlation_id`, indicating a unique identifier for the request. Once the request is submitted, it is queued for processing. As soon as a processing slot is available, the structure prediction process is started. You can keep an eye on the submission request by querying the Server with the `correlation_id`.\n",
    "\n",
    "In the following, we will wait for the status to be completed in order to download the structure prediction and save it into a pdb file that we then can visualize.\n",
    "\n",
    "More information about the API can be found here: https://developer.nvidia.com/docs/bionemo-service/working-with-the-api.html"
   ]
  },
  {
   "cell_type": "markdown",
   "metadata": {},
   "source": [
    "### Visualizing the predicted structures and prediction confidence\n",
    "\n",
    "Finally, we visualize the predictions in 3D using [*py3Dmol*](https://pypi.org/project/py3Dmol/).\n",
    "\n",
    "We take advantage of the predicted IDDT, i.e., a proxy to model confidence, and visualize it as a color similar to AlpaFold2.  In this color scheme, we bin the confidence intervals as:\n",
    " - <span style=\"color:blue\">&#11035;</span> (dark blue, very high) - 90-100%</span>\n",
    " - <span style=\"color:lightblue\">&#11035;</span> (light blue, confident) - 70-90%\n",
    " - <span style=\"color:yellow\">&#11035;</span> (yellow, low) - 50-70%\n",
    " - <span style=\"color:orange\">&#11035;</span> (orange, very low) - <50%\n",
    "\n",
    "Regions in dark blue, with very high confidence, are expected to be modeled with high accuracy and can be used in applications that require high accuracy such as identifying binding sites.  Light blue regions with 70-90% confidence are expected to model general structure well.  Regions with low 50-70% confidence should be treated with caution, and below 50% confidence should not be used.\n",
    "\n",
    "In the visualizations below, we show the two cases from the examples above:\n",
    " - The predicted structure of the original Thioredoxin sequence from the UniProt sequence look-up service, and\n",
    " - The predicted structure of the novel protein sequence generated with ProtGPT\n",
    " \n",
    "Note that these are independent structures.  The following visualizations are not intended for comparison, but rather to showcase the ability to predict 3D structure using OpenFold.\n",
    " "
   ]
  },
  {
   "cell_type": "code",
   "execution_count": null,
   "metadata": {},
   "outputs": [],
   "source": [
    "# Define color palette for IDDT\n",
    "color_palette = {\n",
    "    range(90,100): 'blue',\n",
    "    range(70,90): 'lightblue',\n",
    "    range(50,70): 'yellow',\n",
    "    range(0,50): 'orange',\n",
    "}\n",
    "\n",
    "def get_color(IDDT):\n",
    "    for key in color_palette:\n",
    "        if IDDT in key:\n",
    "            return color_palette[key]"
   ]
  },
  {
   "cell_type": "markdown",
   "metadata": {},
   "source": [
    "First the original Thioredoxin structure:"
   ]
  },
  {
   "cell_type": "code",
   "execution_count": null,
   "metadata": {},
   "outputs": [],
   "source": [
    "filename=\"BioNeMo_OpenFold_original.pdb\"\n",
    "# Loading the predicted structure saved in PDB file\n",
    "with open(filename) as ifile:\n",
    "    system = \"\".join([x for x in ifile])\n",
    "\n",
    "#configuring the structure display\n",
    "view = py3Dmol.view(width=800, height=800)\n",
    "view.addModelsAsFrames(system)\n",
    "\n",
    "# Iterate over residues and color based on IDDT value\n",
    "for i, line in enumerate(system.split(\"\\n\")):\n",
    "    split = line.split()\n",
    "    if len(split) == 0 or split[0] != \"ATOM\":\n",
    "        continue\n",
    "\n",
    "    color = get_color(int(float(split[10])))\n",
    "    \n",
    "    view.setStyle({'model': -1, 'serial': i+1}, {\"cartoon\": {'color': color}})\n",
    "\n",
    "view.zoomTo()\n",
    "view.show()"
   ]
  },
  {
   "cell_type": "markdown",
   "metadata": {},
   "source": [
    "Next the predicted structure of the generated sequence."
   ]
  },
  {
   "cell_type": "code",
   "execution_count": null,
   "metadata": {},
   "outputs": [],
   "source": [
    "filename=\"BioNeMo_OpenFold_generated.pdb\"\n",
    "# Loading the predicted structure saved in PDB file\n",
    "with open(filename) as ifile:\n",
    "    system = \"\".join([x for x in ifile])\n",
    "\n",
    "#configuring the structure display\n",
    "view = py3Dmol.view(width=800, height=800)\n",
    "view.addModelsAsFrames(system)\n",
    "\n",
    "# Iterate over residues and color based on IDDT value\n",
    "for i, line in enumerate(system.split(\"\\n\")):\n",
    "    split = line.split()\n",
    "    if len(split) == 0 or split[0] != \"ATOM\":\n",
    "        continue\n",
    "\n",
    "    color = get_color(int(float(split[10])))\n",
    "    \n",
    "    view.setStyle({'model': -1, 'serial': i+1}, {\"cartoon\": {'color': color}})\n",
    "\n",
    "view.zoomTo()\n",
    "view.show()"
   ]
  },
  {
   "cell_type": "markdown",
   "metadata": {},
   "source": [
    "## Conclusion\n",
    "In this notebook, we've walked through an example workflow generating protein sequences and visualizing their 3D structure, covering:\n",
    " - How to configure the BioNeMo Service API\n",
    " - Generating protein sequences with the ProtGPT2 model\n",
    " - Predicting 3D protein structure of the generated sequences using OpenFold\n",
    " \n",
    "While this notebook demonstrates some of the rich capabilities of the BioNeMo service, this could just be the beginning of a production end-to-end drug discovery pipeline."
   ]
  },
  {
   "cell_type": "code",
   "execution_count": null,
   "metadata": {},
   "outputs": [],
   "source": []
  }
 ],
 "metadata": {
  "accelerator": "GPU",
  "colab": {
   "collapsed_sections": [
    "scfLT2i0MLyD",
    "CtNdk7PSafKP"
   ],
   "provenance": []
  },
  "gpuClass": "standard",
  "kernelspec": {
   "display_name": "Python 3 (ipykernel)",
   "language": "python",
   "name": "python3"
  },
  "language_info": {
   "codemirror_mode": {
    "name": "ipython",
    "version": 3
   },
   "file_extension": ".py",
   "mimetype": "text/x-python",
   "name": "python",
   "nbconvert_exporter": "python",
   "pygments_lexer": "ipython3",
   "version": "3.9.13"
  },
  "vscode": {
   "interpreter": {
    "hash": "31f2aee4e71d21fbe5cf8b01ff0e069b9275f58929596ceb00d14d90e3e16cd6"
   }
  }
 },
 "nbformat": 4,
 "nbformat_minor": 4
}
